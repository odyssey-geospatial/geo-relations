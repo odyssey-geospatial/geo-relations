{
 "cells": [
  {
   "cell_type": "markdown",
   "id": "acc85c8b-1219-4af0-a709-ead7fb5b77c2",
   "metadata": {},
   "source": [
    "# Shapes dataset: collect shapes\n",
    "\n",
    "In htis folder, we are\n",
    "building a dataset geospatial shapes. The actual entities and their specific types\n",
    "don't matter. \n",
    "This dataset is to be a collection of geometries that include span all six standard types --\n",
    "Point, LineString, Polygon, MultiPoint, MultiLineString, and MultiPolygon.\n",
    "The collection of shapes\n",
    "also needs exhibit various pairwise spatial relationships like adjacency, containment, \n",
    "and intersection.\n",
    "\n",
    "All shapes will be pulled from OpenStreetMap\n",
    "using the `osmnx` package. \n",
    "Since OSM is short on the Multi* type of entities, I will create them \n",
    "by combining random subsets of the other types.\n",
    "\n",
    "A key point here is that we will not be encoding things in lon/lat space.\n",
    "Instead we will focus on rectangular subsets of say 10km x 10 km. \n",
    "The mapping between lon/lat and local x/y will be done based on a local\n",
    "transverse Mercator projection.\n",
    "\n",
    "\n"
   ]
  },
  {
   "cell_type": "code",
   "execution_count": null,
   "id": "dd90d4c3-c955-417d-9f96-0bbfd3c49cd7",
   "metadata": {},
   "outputs": [],
   "source": [
    "import geopandas as gpd\n",
    "import pandas as pd\n",
    "import numpy as np\n",
    "import osmnx\n",
    "import shapely\n",
    "import pyproj\n",
    "\n",
    "import plotly\n",
    "from plotly.subplots import make_subplots\n",
    "from plotly.graph_objects import Scatter\n",
    "\n",
    "from geo_encodings.vis import px_draw"
   ]
  },
  {
   "cell_type": "markdown",
   "id": "aa982ed5-b9e3-4c06-a6db-a83d24e35afe",
   "metadata": {},
   "source": [
    "## Setup"
   ]
  },
  {
   "cell_type": "code",
   "execution_count": null,
   "id": "3423fb97-79aa-4d6f-8097-3dfdcc81aec2",
   "metadata": {},
   "outputs": [],
   "source": [
    "# Define a lon/lat center and a radius from which to pull shapes.\n",
    "# center_lat, center_lon = 43.000273, -71.088411 # Brentwood NH\n",
    "# center_lat, center_lon = 43.283307, -72.576623 # Chester VT\n",
    "# center_lat, center_lon = 42.631024, -70.993787 # Boxford MA\n",
    "# center_lat, center_lon = 41.688562, -73.030388 # Terryville CT\n",
    "# center_lat, center_lon = 42.681636, -74.920189 # Middlefield NY\n",
    "center_lat, center_lon = 42.006502, -71.808369 # Thompson CT\n",
    "\n",
    "extent = 30000.0 # meters\n",
    "\n",
    "# Props to ChatGPT for this:\n",
    "colors = [\n",
    "    \"#1f77b4\",  # Blue (Good for water features)\n",
    "    \"#ff7f0e\",  # Orange (Great for roads or paths)\n",
    "    \"#2ca02c\",  # Green (Natural features like parks)\n",
    "    \"#d62728\",  # Red (Important landmarks or warnings)\n",
    "    \"#9467bd\",  # Purple (Alternative highlight color)\n",
    "    \"#8c564b\",  # Brown (Earthy tones for terrain)\n",
    "    \"#e377c2\",  # Pink (Soft accent, good for points of interest)\n",
    "    \"#7f7f7f\",  # Gray (Neutral elements)\n",
    "    \"#bcbd22\",  # Yellow-Green (Highlighting important areas)\n",
    "    \"#17becf\"   # Cyan (Water-adjacent features or paths)\n",
    "]\n"
   ]
  },
  {
   "cell_type": "markdown",
   "id": "9299e08c-cc25-4780-b6ca-e42e481d712d",
   "metadata": {},
   "source": [
    "## Geo transform setup"
   ]
  },
  {
   "cell_type": "code",
   "execution_count": null,
   "id": "cf23e034-29d5-4ebb-b1b6-a325eb4105da",
   "metadata": {},
   "outputs": [],
   "source": [
    "# Define a local map projection.\n",
    "from pyproj import CRS, Transformer\n",
    "\n",
    "# Define the Local Transverse Mercator (LTM) CRS\n",
    "offset = (extent / 2)\n",
    "proj_def = f\"\"\"\n",
    "+proj=tmerc +lat_0={center_lat} +lon_0={center_lon} \n",
    "+k=1.0 +x_0={offset} +y_0={offset} +datum=WGS84 +units=m +no_defs\n",
    "\"\"\"\n",
    "print(proj_def)\n",
    "ltm_crs = CRS.from_proj4(proj_def)\n",
    "\n",
    "# Define WGS84 (Latitude/Longitude) CRS\n",
    "wgs84_crs = CRS.from_epsg(4326)\n",
    "\n",
    "# Create transformer for converting from lat/lon (WGS84) to LTM\n",
    "proj_forward = Transformer.from_crs(wgs84_crs, ltm_crs, always_xy=True).transform\n",
    "proj_inverse = Transformer.from_crs(ltm_crs, wgs84_crs, always_xy=True).transform\n",
    "\n",
    "# Test conversion/\n",
    "lon, lat = center_lon, center_lat\n",
    "x, y = proj_forward(lon, lat)\n",
    "print(x, y)\n",
    "\n",
    "lon, lat = proj_inverse(x, y)\n",
    "print(lon, lat)"
   ]
  },
  {
   "cell_type": "code",
   "execution_count": null,
   "id": "89bcd0bc-1abd-40c1-8ac3-2cf02c1a0151",
   "metadata": {},
   "outputs": [],
   "source": [
    "# Define a polygon defining the bounding box for our area of interest.\n",
    "xx = [0, extent, extent, 0, 0]\n",
    "yy = [0, 0, extent, extent, 0]\n",
    "aoi = shapely.geometry.Polygon(list(zip(xx, yy)))\n",
    "print(aoi)"
   ]
  },
  {
   "cell_type": "code",
   "execution_count": null,
   "id": "9658f1bc-aeb6-442c-a73e-c96bdbbdec95",
   "metadata": {},
   "outputs": [],
   "source": [
    "# Get the bounds to be used for querying from OSM.\n",
    "lon0, lat0 = proj_inverse(0, 0)\n",
    "lon1, lat1 = proj_inverse(extent, extent)\n",
    "query_bounds = [lon0, lat0, lon1, lat1]\n",
    "print(query_bounds)"
   ]
  },
  {
   "cell_type": "markdown",
   "id": "2b21bd9d-e65d-4b73-8af5-5a074eada311",
   "metadata": {},
   "source": [
    "## Base polygons\n",
    "Define a bunch of \"base polygons\" consisting of the town boundaries within the AOI.\n",
    "This will approximately tile the area, and will share borders. So treating these as a separate\n",
    "class from other polygons (below) assures that we will have a reasonable number of cases of\n",
    "polygon containment and polygon borderings. "
   ]
  },
  {
   "cell_type": "code",
   "execution_count": null,
   "id": "0f703d22-6401-4501-8e99-746da9f75f79",
   "metadata": {},
   "outputs": [],
   "source": [
    "# Get named towns.\n",
    "tags = {\n",
    "    'boundary': 'administrative',\n",
    "    'admin_level': '8'\n",
    "}\n",
    "gdf = osmnx.features.features_from_bbox(query_bounds, tags=tags).reset_index()\n",
    "iok = gdf['admin_level'] == '8'\n",
    "iok = np.logical_and(iok, np.array([type(z) for z in gdf['name'].values]) == str)\n",
    "towns = gdf[iok][['id', 'geometry', 'name']]\n",
    "print('%d records' % len(towns))"
   ]
  },
  {
   "cell_type": "code",
   "execution_count": null,
   "id": "0437f03c-4a29-4530-ad4b-ccd3cd117437",
   "metadata": {},
   "outputs": [],
   "source": [
    "# Only keep the portions that fall within our AOI, and that are a minimum fraction of their original.\n",
    "base_polygons = []\n",
    "for rec in towns.itertuples():\n",
    "    g1 = shapely.ops.transform(proj_forward, rec.geometry)\n",
    "    g2 = g1.intersection(aoi)\n",
    "    if g2.geom_type != 'Polygon':\n",
    "        continue\n",
    "    if g2.area / g1.area > 0.1:\n",
    "        base_polygons.append(g2)\n",
    "print('%d shapes retained' % len(base_polygons))"
   ]
  },
  {
   "cell_type": "code",
   "execution_count": null,
   "id": "e8ba0e8a-8de5-430e-a7a1-74d5be9e3c67",
   "metadata": {},
   "outputs": [],
   "source": [
    "fig = make_subplots(1, 1)\n",
    "for k, shape in enumerate(base_polygons):\n",
    "    px_draw(shape, fig, name='shape %d' % k, color=colors[k % len(colors)])\n",
    "fig['layout']['width'] = 500\n",
    "fig['layout']['height'] = 500\n",
    "fig"
   ]
  },
  {
   "cell_type": "markdown",
   "id": "b9af20e3-ecba-4376-8127-8cc583ba304b",
   "metadata": {},
   "source": [
    "## Polygons and MultiPolygons\n",
    "Define a set of polygons consisting of local OSM \"landuse\" instances.\n",
    "These are typically smaller than the town polygons, and are generally disjoint. \n",
    "We pick all examples of a few different types of landuse categories. Then to get \n",
    "a set of MultiPolygon objects, we create a few random groupings."
   ]
  },
  {
   "cell_type": "code",
   "execution_count": null,
   "id": "3ceede9b-92b6-4724-9130-02f4aa1fcc63",
   "metadata": {},
   "outputs": [],
   "source": [
    "# Get landuse polygons.\n",
    "tags = { 'landuse': ['residential', 'commercial', 'industrial', 'retail', 'farmland']}\n",
    "gdf = osmnx.features.features_from_bbox(query_bounds, tags=tags).reset_index()\n",
    "names = [\n",
    "    z['name'] if type(z['name']) == str else '_%s_' % z['landuse']\n",
    "    for z in gdf.to_dict('records')\n",
    "]\n",
    "gdf['name'] = names\n",
    "columns = ['id', 'landuse', 'name', 'geometry']\n",
    "landuse = gdf[columns]\n",
    "print('%d records' % len(landuse))"
   ]
  },
  {
   "cell_type": "code",
   "execution_count": null,
   "id": "9d2313c7-8bae-4280-8af6-219c5de8491d",
   "metadata": {},
   "outputs": [],
   "source": [
    "# Only keep the portions that fall within our AOI, and that are a minimum fraction of their original size.\n",
    "polygons = []\n",
    "for rec in landuse.itertuples():\n",
    "    g0 = rec.geometry\n",
    "    g1 = shapely.ops.transform(proj_forward, g0)\n",
    "    g2 = g1.intersection(aoi)\n",
    "    if g2.geom_type != 'Polygon': # It can happen. \n",
    "        continue\n",
    "    if g2.area / g1.area > 0.1 and g2.area > 10000.0:\n",
    "        polygons.append(g2)\n",
    "print('%d shapes retained' % len(polygons))"
   ]
  },
  {
   "cell_type": "code",
   "execution_count": null,
   "id": "d38d3b75-a94e-4323-932a-9636f73d0eda",
   "metadata": {},
   "outputs": [],
   "source": [
    "# # Create a few multipolygon shapes.\n",
    "# n_polygons = len(polygons)\n",
    "# n_multipolygons = 200\n",
    "# multipolygons = []\n",
    "# for i in range(n_multipolygons):\n",
    "#     sample_count = np.random.randint(8) + 2\n",
    "#     sample_indices = np.random.choice(n_polygons, sample_count, replace=False)\n",
    "#     mp = shapely.MultiPolygon([polygons[i] for i in sample_indices])\n",
    "#     multipolygons.append(mp)\n"
   ]
  },
  {
   "cell_type": "markdown",
   "id": "99965299-5b53-41b8-8f85-c2b3deb7eebe",
   "metadata": {},
   "source": [
    "## Linestrings\n",
    "Use major roads and waterways."
   ]
  },
  {
   "cell_type": "code",
   "execution_count": null,
   "id": "d65c285d-ede0-42c3-aa40-fadc75440404",
   "metadata": {},
   "outputs": [],
   "source": [
    "# Roads\n",
    "tags = { 'highway': ['motorway', 'trunk', 'primary', 'secondary']}\n",
    "roads = osmnx.features.features_from_bbox(query_bounds, tags=tags).reset_index()\n",
    "print('%d records' % len(roads))"
   ]
  },
  {
   "cell_type": "code",
   "execution_count": null,
   "id": "68f3bbea-655b-45d7-ba09-c2bb91b8718a",
   "metadata": {},
   "outputs": [],
   "source": [
    "# Waterways\n",
    "tags = {\"waterway\": [\"river\", \"stream\", \"canal\"]}\n",
    "waterways = osmnx.features.features_from_bbox(query_bounds, tags=tags).reset_index()\n",
    "print('%d records' % len(waterways))"
   ]
  },
  {
   "cell_type": "code",
   "execution_count": null,
   "id": "7d5e61fb-99ce-4012-9d74-d9d83ea01d88",
   "metadata": {},
   "outputs": [],
   "source": [
    "# Reproject and filter.\n",
    "linestrings = []\n",
    "for source in [roads, waterways]:\n",
    "    for rec in source.itertuples():\n",
    "        g0 = rec.geometry\n",
    "        g1 = shapely.ops.transform(proj_forward, g0)\n",
    "        g2 = g1.intersection(aoi)\n",
    "        if g2.geom_type != 'LineString':\n",
    "            continue\n",
    "        if g2.length / g1.length > 0.5 and g2.length > 500:\n",
    "            linestrings.append(g2)\n",
    "print('%d shapes' % len(linestrings))"
   ]
  },
  {
   "cell_type": "code",
   "execution_count": null,
   "id": "12caf509-57ec-4760-9e2c-9725d91c455b",
   "metadata": {},
   "outputs": [],
   "source": [
    "# # Create a few multilinestrings shapes.\n",
    "# n_linestrings = len(linestrings)\n",
    "# n_multilinestrings = 200\n",
    "# multilinestrings = []\n",
    "# for i in range(n_multilinestrings):\n",
    "#     sample_count = np.random.randint(8) + 2\n",
    "#     sample_indices = np.random.choice(n_linestrings, sample_count, replace=False)\n",
    "#     mp = shapely.MultiLineString([linestrings[i] for i in sample_indices])\n",
    "#     multilinestrings.append(mp)\n"
   ]
  },
  {
   "cell_type": "markdown",
   "id": "767bedf3-a043-4c60-b35c-c1fb363344bc",
   "metadata": {},
   "source": [
    "## Points"
   ]
  },
  {
   "cell_type": "code",
   "execution_count": null,
   "id": "05f3cc6d-7086-4655-9d32-ef93eb22f323",
   "metadata": {},
   "outputs": [],
   "source": [
    "tags = {\"amenity\": True}\n",
    "amenities = osmnx.features.features_from_bbox(query_bounds, tags=tags).reset_index()\n",
    "print('%d records' % len(amenities))"
   ]
  },
  {
   "cell_type": "code",
   "execution_count": null,
   "id": "6f8023bc-3a5a-48ca-8d4d-50996565bfae",
   "metadata": {},
   "outputs": [],
   "source": [
    "# Reproject and filter.\n",
    "# Some of these show up as polygons; just use their centroids.\n",
    "points = []\n",
    "for source in [amenities]:\n",
    "    for rec in source.itertuples():\n",
    "        if rec.amenity in ['parking', 'parking_space']: # There are just too many of these.\n",
    "            continue\n",
    "        g0 = rec.geometry\n",
    "        if g0.geom_type == 'Point':\n",
    "            g1 = g0\n",
    "        elif g0.geom_type == 'Polygon':\n",
    "            g1 = g0.centroid\n",
    "        else:\n",
    "            continue\n",
    "        g2 = shapely.ops.transform(proj_forward, g1)\n",
    "        if g2.within(aoi):\n",
    "            points.append(g2)\n",
    "print('%d shapes' % len(points))"
   ]
  },
  {
   "cell_type": "code",
   "execution_count": null,
   "id": "5957f9db-a4a1-43dc-b6fc-784a4843c215",
   "metadata": {},
   "outputs": [],
   "source": [
    "# # Create a few MultiPoint shapes.\n",
    "# n_points = len(points)\n",
    "# n_multipoints = 200\n",
    "# multipoints = []\n",
    "# for i in range(n_multipoints):\n",
    "#     sample_count = np.random.randint(8) + 2\n",
    "#     sample_indices = np.random.choice(n_points, sample_count, replace=False)\n",
    "#     mp = shapely.MultiPoint([points[i] for i in sample_indices])\n",
    "#     multipoints.append(mp)\n"
   ]
  },
  {
   "cell_type": "markdown",
   "id": "01c7738d-6dda-4bfe-9133-25b3e1364d5e",
   "metadata": {},
   "source": [
    "## Put them all together"
   ]
  },
  {
   "cell_type": "code",
   "execution_count": null,
   "id": "82f7002f-c94a-4347-acc0-2eb3b52cb608",
   "metadata": {},
   "outputs": [],
   "source": [
    "shape_list = base_polygons + polygons + linestrings  + points \n",
    "types = [g.geom_type for g in shape_list]\n",
    "shapes = gpd.GeoDataFrame({'type': types, 'geom': shape_list})\n",
    "shapes['type'].value_counts()\n",
    "print('%d shapes' % len(shapes))\n",
    "print(shapes['type'].value_counts())\n",
    "\n",
    "shape_list = base_polygons \n",
    "types = [g.geom_type for g in shape_list]\n",
    "tiled_polygons = gpd.GeoDataFrame({'type': types, 'geom': shape_list})\n",
    "print('\\n%d tiled shapes' % len(tiled_polygons))\n",
    "print(tiled_polygons['type'].value_counts())\n"
   ]
  },
  {
   "cell_type": "code",
   "execution_count": null,
   "id": "a715ac2c-9bfb-47b3-bcf9-a8d2ac6fe55a",
   "metadata": {},
   "outputs": [],
   "source": []
  },
  {
   "cell_type": "code",
   "execution_count": null,
   "id": "9705a4a5-3d6b-42fa-b61d-3a823a4f108f",
   "metadata": {},
   "outputs": [],
   "source": []
  },
  {
   "cell_type": "code",
   "execution_count": null,
   "id": "51a14bc2-c05f-42f8-815a-f8014bf07d2e",
   "metadata": {},
   "outputs": [],
   "source": []
  },
  {
   "cell_type": "code",
   "execution_count": null,
   "id": "c676a147-1ee3-4ef6-97e5-32a9f6a37207",
   "metadata": {},
   "outputs": [],
   "source": []
  },
  {
   "cell_type": "markdown",
   "id": "6b9d33fa-9106-4e97-b428-c11f76c6fc01",
   "metadata": {},
   "source": [
    "## A thing to generate shape pairs \n",
    "That have certain types of relationshiops"
   ]
  },
  {
   "cell_type": "code",
   "execution_count": null,
   "id": "d3289a9b-4d81-4dd7-8cb4-3ea773ca126a",
   "metadata": {},
   "outputs": [],
   "source": [
    "from generators import Generator"
   ]
  },
  {
   "cell_type": "code",
   "execution_count": null,
   "id": "658885de-ae8a-47d7-9877-d7750ac336f7",
   "metadata": {},
   "outputs": [],
   "source": [
    "aoi_width = 100\n",
    "aoi_height = 100\n",
    "relation = 'point-on-linestring'\n",
    "relation = 'point-in-polygon'\n",
    "relation = 'linestring-intersects-linestring'\n",
    "relation = 'linestring-intersects-polygon'\n",
    "relation = 'polygon-intersects-polygon'\n",
    "relation = 'polygon-borders-polygon'\n",
    "\n",
    "fodder = tiled_polygons if relation == 'polygon-borders-polygon' else shapes\n",
    "generator = Generator(fodder, bounds=[0, 0, aoi_width, aoi_height], scale=25)\n",
    "\n",
    "\n",
    "ncases = 4\n",
    "\n",
    "fig = make_subplots(2, ncases)\n",
    "\n",
    "for i in range(ncases):\n",
    "    a, b = generator.generate(relation, True, max_attempts=100)\n",
    "    px_draw(a, fig, irow=1, icol=i+1, name=a.geom_type, color='red')\n",
    "    px_draw(b, fig, irow=1, icol=i+1, name=b.geom_type, color='blue')\n",
    "\n",
    "for i in range(ncases):\n",
    "    a, b = generator.generate(relation, False)\n",
    "    px_draw(a, fig, irow=2, icol=i+1, name=a.geom_type, color='red')\n",
    "    px_draw(b, fig, irow=2, icol=i+1, name=b.geom_type, color='blue')\n",
    "\n",
    "fig['layout']['title'] = relation\n",
    "fig['layout']['width'] = 1000\n",
    "fig['layout']['height'] = 500\n",
    "\n",
    "for i in range(8):\n",
    "    fig['layout']['xaxis%d' % (i+1)]['range'] = [0, aoi_width]\n",
    "    fig['layout']['yaxis%d' % (i+1)]['range'] = [0, aoi_height]\n",
    "fig\n",
    "# fig.print_grid()"
   ]
  },
  {
   "cell_type": "code",
   "execution_count": null,
   "id": "13e4ce58-f73d-44cd-a284-bcdf2ea3bbf4",
   "metadata": {},
   "outputs": [],
   "source": [
    "cases = []\n",
    "\n",
    "#\n",
    "# Most cases\n",
    "#\n",
    "\n",
    "generator = Generator(shapes, bounds=[0, 0, 100, 100], scale=25)\n",
    "\n",
    "relations = [\n",
    "    'point-on-linestring',  \n",
    "    'point-in-polygon', \n",
    "    'linestring-intersects-linestring',\n",
    "    'linestring-intersects-polygon', \n",
    "    'polygon-intersects-polygon',\n",
    "]\n",
    "\n",
    "for relation in relations:\n",
    "    print(relation)\n",
    "    for i in range(100):\n",
    "        ma = 100 if relation == 'point-in-polygon' else 20\n",
    "        aa, bb = generator.generate(relation, True, max_attempts=ma)\n",
    "        if aa is not None and bb is not None:\n",
    "            cases.append({\n",
    "                'relation': relation,\n",
    "                'sense': True,\n",
    "                'shape_a': shapely.set_precision(aa, 0.001), \n",
    "                'shape_b': shapely.set_precision(bb, 0.001),\n",
    "            })\n",
    "    for i in range(200):\n",
    "        aa, bb = generator.generate(relation, False)\n",
    "        if aa is not None and bb is not None:\n",
    "            cases.append({\n",
    "                'relation': relation,\n",
    "                'sense': False,\n",
    "                'shape_a': shapely.set_precision(aa, 0.001), \n",
    "                'shape_b': shapely.set_precision(g2, 0.001),\n",
    "            })\n",
    "\n",
    "#\n",
    "# polygon border case\n",
    "# \n",
    "\n",
    "generator = Generator(tiled_polygons, bounds=[0, 0, 100, 100], scale=25)\n",
    "\n",
    "relations = [\n",
    "    'polygon-borders-polygon',\n",
    "]\n",
    "\n",
    "for relation in relations:\n",
    "    print(relation)\n",
    "    for i in range(100):\n",
    "        aa, bb = generator.generate(relation, True)\n",
    "        if aa is not None and bb is not None:\n",
    "            cases.append({\n",
    "                'relation': relation,\n",
    "                'sense': True,\n",
    "                'shape_a': shapely.set_precision(aa, 0.001), \n",
    "                'shape_b': shapely.set_precision(bb, 0.001),\n",
    "            })\n",
    "    for i in range(200):\n",
    "        aa, bb = generator.generate(relation, True)\n",
    "        if aa is not None and bb is not None:\n",
    "            cases.append({\n",
    "                'relation': relation,\n",
    "                'sense': False,\n",
    "                'shape_a': shapely.set_precision(aa, 0.001), \n",
    "                'shape_b': shapely.set_precision(bb, 0.001),\n",
    "            })\n",
    "\n",
    "print(len(cases))\n"
   ]
  },
  {
   "cell_type": "code",
   "execution_count": null,
   "id": "d7f800c3-9b72-48b7-b10a-4b8d933d3257",
   "metadata": {},
   "outputs": [],
   "source": [
    "import geopandas\n",
    "a = geopandas.GeoDataFrame(cases)\n",
    "a.drop(columns=['shape_a', 'shape_b']).value_counts().sort_index()"
   ]
  },
  {
   "cell_type": "code",
   "execution_count": null,
   "id": "7ebb8a38-fab4-443c-8684-d10831bd3d34",
   "metadata": {},
   "outputs": [],
   "source": [
    "# Save it\n",
    "import pygeohash\n",
    "tag = pygeohash.encode(center_lat, center_lon, 8)\n",
    "fname = 'relations-%s.geojson' % tag\n",
    "out = geopandas.GeoDataFrame(cases)\n",
    "out = geopandas.GeoDataFrame(out.drop_duplicates())\n",
    "out.to_file(fname, driver='GeoJSON')\n",
    "print('%s' % fname)"
   ]
  },
  {
   "cell_type": "code",
   "execution_count": null,
   "id": "ab710eb4-3d27-4413-8a61-336374066900",
   "metadata": {},
   "outputs": [],
   "source": []
  },
  {
   "cell_type": "code",
   "execution_count": null,
   "id": "6bd6b886-cb1f-4e2f-b28d-4b5d74e4bc2b",
   "metadata": {},
   "outputs": [],
   "source": []
  },
  {
   "cell_type": "code",
   "execution_count": null,
   "id": "4c554b4d-eac1-48fa-bfbc-064997dd96d8",
   "metadata": {},
   "outputs": [],
   "source": []
  },
  {
   "cell_type": "code",
   "execution_count": null,
   "id": "892202ab-a04e-4694-a1ad-8c466c89a325",
   "metadata": {},
   "outputs": [],
   "source": []
  },
  {
   "cell_type": "code",
   "execution_count": null,
   "id": "a9e0fe41-23da-46b6-b512-95061a4e81ef",
   "metadata": {},
   "outputs": [],
   "source": []
  }
 ],
 "metadata": {
  "kernelspec": {
   "display_name": "Python 3 (ipykernel)",
   "language": "python",
   "name": "python3"
  },
  "language_info": {
   "codemirror_mode": {
    "name": "ipython",
    "version": 3
   },
   "file_extension": ".py",
   "mimetype": "text/x-python",
   "name": "python",
   "nbconvert_exporter": "python",
   "pygments_lexer": "ipython3",
   "version": "3.12.4"
  }
 },
 "nbformat": 4,
 "nbformat_minor": 5
}
