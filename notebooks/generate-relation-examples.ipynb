{
 "cells": [
  {
   "cell_type": "markdown",
   "id": "acc85c8b-1219-4af0-a709-ead7fb5b77c2",
   "metadata": {},
   "source": [
    "# Collect shapes and generate relations\n",
    "\n",
    "In this folder, we are building a dataset of geospatial shapes that have certain perscribed\n",
    "relations, like \"polygon intersection\" or \"point-on-line\". \n",
    "The actual entities and their specific attributes don't matter. \n",
    "\n",
    "All shapes will be pulled from OpenStreetMap using the `osmnx` package. \n",
    "We will not be encoding things in lon/lat space.\n",
    "Instead we will focus on rectangular subsets of say 10km x 10 km. \n",
    "The mapping between lon/lat and local x/y will be done based on a local\n",
    "transverse Mercator projection.\n",
    "\n",
    "This notebook generates a few examples of a specified relation.\n",
    "This is meant mostly for confrming that things are working correctly.\n"
   ]
  },
  {
   "cell_type": "code",
   "execution_count": null,
   "id": "dd90d4c3-c955-417d-9f96-0bbfd3c49cd7",
   "metadata": {},
   "outputs": [],
   "source": [
    "import geopandas as gpd\n",
    "import pandas as pd\n",
    "import numpy as np\n",
    "import osmnx\n",
    "import shapely\n",
    "import pyproj\n",
    "\n",
    "import plotly\n",
    "from plotly.subplots import make_subplots\n",
    "from plotly.graph_objects import Scatter\n"
   ]
  },
  {
   "cell_type": "code",
   "execution_count": null,
   "id": "a5651a69-9cdc-45ce-af6a-c3123c5c3718",
   "metadata": {},
   "outputs": [],
   "source": [
    "from geo_relations import OSMShapeCollector\n",
    "from geo_relations import RelationGenerator\n",
    "from geo_relations import draw_shape"
   ]
  },
  {
   "cell_type": "markdown",
   "id": "aa982ed5-b9e3-4c06-a6db-a83d24e35afe",
   "metadata": {},
   "source": [
    "## Setup"
   ]
  },
  {
   "cell_type": "code",
   "execution_count": null,
   "id": "3423fb97-79aa-4d6f-8097-3dfdcc81aec2",
   "metadata": {},
   "outputs": [],
   "source": [
    "# Define a lon/lat center and a box size from which to pull shapes.\n",
    "center_lat, center_lon = 43.134101, -70.926430\n",
    "extent = 5000.0 # meters; this represents both width and height"
   ]
  },
  {
   "cell_type": "code",
   "execution_count": null,
   "id": "5c89c339-c283-4116-9460-17533feb13a7",
   "metadata": {},
   "outputs": [],
   "source": [
    "# Get a set of Point, LineString, and Polygon objects from our sample box.\n",
    "collector = OSMShapeCollector(center_lon, center_lat, extent)\n",
    "shapes = collector.collect(['linestrings', 'polygons'])\n",
    "shapes['type'].value_counts()"
   ]
  },
  {
   "cell_type": "code",
   "execution_count": null,
   "id": "2e4f3abb-0440-40b1-9989-307f5b5965c0",
   "metadata": {},
   "outputs": [],
   "source": [
    "region_width = 100\n",
    "region_height = 100\n",
    "relation = 'linestring-intersects-polygon'\n",
    "sense = True\n",
    "fodder = shapes\n",
    "generator = RelationGenerator(fodder, bounds=[0, 0, region_width, region_height], scale=[0.1, 0.5], margin=20)"
   ]
  },
  {
   "cell_type": "code",
   "execution_count": null,
   "id": "ec6d04dd-cb37-417a-a75b-61ee92d54f5c",
   "metadata": {},
   "outputs": [],
   "source": [
    "# Generate a plot a few cases.\n",
    "n = 4\n",
    "fig = make_subplots(1, n)\n",
    "for icol in range(n):\n",
    "    a, b = generator.generate(relation=relation, sense=sense, max_attempts=100)\n",
    "    if a is None:\n",
    "        continue\n",
    "    draw_shape(a, fig, irow=1, icol=icol+1, color='red')\n",
    "    draw_shape(b, fig, irow=1, icol=icol+1, color='blue')\n",
    "    fig['layout']['xaxis%d'%(icol+1)]['range'] = [0, 100]\n",
    "    fig['layout']['yaxis%d'%(icol+1)]['range'] = [0, 100]\n",
    "fig['layout']['width'] = 1200\n",
    "fig['layout']['height'] = 400\n",
    "fig['layout']['title'] = 'examples for %s = %s' % (relation, sense)\n",
    "fig.show()"
   ]
  },
  {
   "cell_type": "code",
   "execution_count": null,
   "id": "f3a00381-d414-4c59-bddd-d8ac947494ad",
   "metadata": {},
   "outputs": [],
   "source": []
  }
 ],
 "metadata": {
  "kernelspec": {
   "display_name": "Python 3 (ipykernel)",
   "language": "python",
   "name": "python3"
  },
  "language_info": {
   "codemirror_mode": {
    "name": "ipython",
    "version": 3
   },
   "file_extension": ".py",
   "mimetype": "text/x-python",
   "name": "python",
   "nbconvert_exporter": "python",
   "pygments_lexer": "ipython3",
   "version": "3.10.1"
  }
 },
 "nbformat": 4,
 "nbformat_minor": 5
}
