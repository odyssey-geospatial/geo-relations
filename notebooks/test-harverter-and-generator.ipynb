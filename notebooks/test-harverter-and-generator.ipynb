{
 "cells": [
  {
   "cell_type": "markdown",
   "id": "acc85c8b-1219-4af0-a709-ead7fb5b77c2",
   "metadata": {},
   "source": [
    "# Collect shapes and generate relations\n",
    "\n",
    "In this folder, we are building a dataset of geospatial shapes that have certain perscribed\n",
    "relations, like \"polygon intersection\" or \"point-on-line\". \n",
    "The actual entities and their specific attributes don't matter. \n",
    "\n",
    "This dataset is to be a collection of geometries that include span all six standard types --\n",
    "Point, LineString, Polygon, MultiPoint, MultiLineString, and MultiPolygon.\n",
    "\n",
    "All shapes will be pulled from OpenStreetMap using the `osmnx` package. \n",
    "Since OSM is short on the Multi* type of entities, I will create them \n",
    "by combining random subsets of the other types.\n",
    "\n",
    "We will not be encoding things in lon/lat space.\n",
    "Instead we will focus on rectangular subsets of say 10km x 10 km. \n",
    "The mapping between lon/lat and local x/y will be done based on a local\n",
    "transverse Mercator projection.\n",
    "\n",
    "\n"
   ]
  },
  {
   "cell_type": "code",
   "execution_count": null,
   "id": "dd90d4c3-c955-417d-9f96-0bbfd3c49cd7",
   "metadata": {},
   "outputs": [],
   "source": [
    "import geopandas as gpd\n",
    "import pandas as pd\n",
    "import numpy as np\n",
    "import osmnx\n",
    "import shapely\n",
    "import pyproj\n",
    "\n",
    "import plotly\n",
    "from plotly.subplots import make_subplots\n",
    "from plotly.graph_objects import Scatter\n",
    "\n",
    "from geo_encodings.vis import px_draw"
   ]
  },
  {
   "cell_type": "code",
   "execution_count": null,
   "id": "a5651a69-9cdc-45ce-af6a-c3123c5c3718",
   "metadata": {},
   "outputs": [],
   "source": [
    "import sys\n",
    "sys.path.append('../src')\n",
    "from harvesters import ShapeHarvester\n",
    "from generators import RelationGenerator"
   ]
  },
  {
   "cell_type": "markdown",
   "id": "aa982ed5-b9e3-4c06-a6db-a83d24e35afe",
   "metadata": {},
   "source": [
    "## Setup"
   ]
  },
  {
   "cell_type": "code",
   "execution_count": null,
   "id": "3423fb97-79aa-4d6f-8097-3dfdcc81aec2",
   "metadata": {},
   "outputs": [],
   "source": [
    "# Define a lon/lat center and a radius from which to pull shapes.\n",
    "# center_lat, center_lon = 43.000273, -71.088411 # Brentwood NH\n",
    "# center_lat, center_lon = 43.283307, -72.576623 # Chester VT\n",
    "# center_lat, center_lon = 42.631024, -70.993787 # Boxford MA\n",
    "# center_lat, center_lon = 41.688562, -73.030388 # Terryville CT\n",
    "# center_lat, center_lon = 42.681636, -74.920189 # Middlefield NY\n",
    "center_lat, center_lon = 42.006502, -71.808369 # Thompson CT\n",
    "\n",
    "extent = 20000.0 # meters\n",
    "\n",
    "# Props to ChatGPT for this:\n",
    "colors = [\n",
    "    \"#1f77b4\",  # Blue (Good for water features)\n",
    "    \"#ff7f0e\",  # Orange (Great for roads or paths)\n",
    "    \"#2ca02c\",  # Green (Natural features like parks)\n",
    "    \"#d62728\",  # Red (Important landmarks or warnings)\n",
    "    \"#9467bd\",  # Purple (Alternative highlight color)\n",
    "    \"#8c564b\",  # Brown (Earthy tones for terrain)\n",
    "    \"#e377c2\",  # Pink (Soft accent, good for points of interest)\n",
    "    \"#7f7f7f\",  # Gray (Neutral elements)\n",
    "    \"#bcbd22\",  # Yellow-Green (Highlighting important areas)\n",
    "    \"#17becf\"   # Cyan (Water-adjacent features or paths)\n",
    "]\n"
   ]
  },
  {
   "cell_type": "code",
   "execution_count": null,
   "id": "5c89c339-c283-4116-9460-17533feb13a7",
   "metadata": {},
   "outputs": [],
   "source": [
    "harvester = Harvester(center_lon, center_lat, extent)\n",
    "shapes = harvester.harvest(['points', 'linestrings', 'polygons'])\n",
    "shapes['type'].value_counts()"
   ]
  },
  {
   "cell_type": "code",
   "execution_count": null,
   "id": "9f078c6c-2b43-4df5-a748-02d42c08d036",
   "metadata": {},
   "outputs": [],
   "source": [
    "harvester = Harvester(center_lon, center_lat, extent * 2)\n",
    "tiles = harvester.harvest(['tiled-polygons'])\n",
    "tiles['type'].value_counts()"
   ]
  },
  {
   "cell_type": "markdown",
   "id": "6b9d33fa-9106-4e97-b428-c11f76c6fc01",
   "metadata": {},
   "source": [
    "## Generate shape pairs with given relationships"
   ]
  },
  {
   "cell_type": "code",
   "execution_count": null,
   "id": "658885de-ae8a-47d7-9877-d7750ac336f7",
   "metadata": {},
   "outputs": [],
   "source": [
    "aoi_width = 100\n",
    "aoi_height = 100\n",
    "relation = 'point-on-linestring'\n",
    "# relation = 'point-in-polygon'\n",
    "# relation = 'linestring-intersects-linestring'\n",
    "# relation = 'linestring-intersects-polygon'\n",
    "# relation = 'polygon-intersects-polygon'\n",
    "# relation = 'polygon-borders-polygon'\n",
    "\n",
    "fodder = tiles if relation == 'polygon-borders-polygon' else shapes\n",
    "generator = Generator(fodder, bounds=[0, 0, aoi_width, aoi_height], scale=25)\n",
    "\n",
    "ncases = 4\n",
    "\n",
    "fig = make_subplots(2, ncases)\n",
    "\n",
    "for i in range(ncases):\n",
    "    a, b = generator.generate(relation, True, max_attempts=100)\n",
    "    px_draw(a, fig, irow=1, icol=i+1, name=a.geom_type, color='red')\n",
    "    px_draw(b, fig, irow=1, icol=i+1, name=b.geom_type, color='blue')\n",
    "\n",
    "for i in range(ncases):\n",
    "    a, b = generator.generate(relation, False)\n",
    "    px_draw(a, fig, irow=2, icol=i+1, name=a.geom_type, color='red')\n",
    "    px_draw(b, fig, irow=2, icol=i+1, name=b.geom_type, color='blue')\n",
    "\n",
    "fig['layout']['title'] = relation\n",
    "fig['layout']['width'] = 1000\n",
    "fig['layout']['height'] = 500\n",
    "\n",
    "for i in range(8):\n",
    "    fig['layout']['xaxis%d' % (i+1)]['range'] = [0, aoi_width]\n",
    "    fig['layout']['yaxis%d' % (i+1)]['range'] = [0, aoi_height]\n",
    "fig\n",
    "# fig.print_grid()"
   ]
  },
  {
   "cell_type": "code",
   "execution_count": null,
   "id": "13e4ce58-f73d-44cd-a284-bcdf2ea3bbf4",
   "metadata": {},
   "outputs": [],
   "source": [
    "cases = []\n",
    "\n",
    "#\n",
    "# Most cases\n",
    "#\n",
    "\n",
    "generator = Generator(shapes, bounds=[0, 0, 100, 100], scale=25)\n",
    "\n",
    "relations = [\n",
    "    'point-on-linestring',  \n",
    "    'point-in-polygon', \n",
    "    'linestring-intersects-linestring',\n",
    "    'linestring-intersects-polygon', \n",
    "    'polygon-intersects-polygon',\n",
    "]\n",
    "\n",
    "for relation in relations:\n",
    "    print(relation)\n",
    "    for i in range(100):\n",
    "        ma = 100 if relation == 'point-in-polygon' else 20\n",
    "        aa, bb = generator.generate(relation, True, max_attempts=ma)\n",
    "        if aa is not None and bb is not None:\n",
    "            cases.append({\n",
    "                'relation': relation,\n",
    "                'sense': True,\n",
    "                'shape_a': shapely.set_precision(aa, 0.001), \n",
    "                'shape_b': shapely.set_precision(bb, 0.001),\n",
    "            })\n",
    "    for i in range(200):\n",
    "        aa, bb = generator.generate(relation, False)\n",
    "        if aa is not None and bb is not None:\n",
    "            cases.append({\n",
    "                'relation': relation,\n",
    "                'sense': False,\n",
    "                'shape_a': shapely.set_precision(aa, 0.001), \n",
    "                'shape_b': shapely.set_precision(g2, 0.001),\n",
    "            })\n",
    "\n",
    "#\n",
    "# polygon border case\n",
    "# \n",
    "\n",
    "generator = Generator(tiled_polygons, bounds=[0, 0, 100, 100], scale=25)\n",
    "\n",
    "relations = [\n",
    "    'polygon-borders-polygon',\n",
    "]\n",
    "\n",
    "for relation in relations:\n",
    "    print(relation)\n",
    "    for i in range(100):\n",
    "        aa, bb = generator.generate(relation, True)\n",
    "        if aa is not None and bb is not None:\n",
    "            cases.append({\n",
    "                'relation': relation,\n",
    "                'sense': True,\n",
    "                'shape_a': shapely.set_precision(aa, 0.001), \n",
    "                'shape_b': shapely.set_precision(bb, 0.001),\n",
    "            })\n",
    "    for i in range(200):\n",
    "        aa, bb = generator.generate(relation, True)\n",
    "        if aa is not None and bb is not None:\n",
    "            cases.append({\n",
    "                'relation': relation,\n",
    "                'sense': False,\n",
    "                'shape_a': shapely.set_precision(aa, 0.001), \n",
    "                'shape_b': shapely.set_precision(bb, 0.001),\n",
    "            })\n",
    "\n",
    "print(len(cases))\n"
   ]
  },
  {
   "cell_type": "code",
   "execution_count": null,
   "id": "d7f800c3-9b72-48b7-b10a-4b8d933d3257",
   "metadata": {},
   "outputs": [],
   "source": [
    "import geopandas\n",
    "a = geopandas.GeoDataFrame(cases)\n",
    "a.drop(columns=['shape_a', 'shape_b']).value_counts().sort_index()"
   ]
  },
  {
   "cell_type": "code",
   "execution_count": null,
   "id": "7ebb8a38-fab4-443c-8684-d10831bd3d34",
   "metadata": {},
   "outputs": [],
   "source": [
    "# Save it\n",
    "import pygeohash\n",
    "tag = pygeohash.encode(center_lat, center_lon, 8)\n",
    "fname = 'relations-%s.geojson' % tag\n",
    "out = geopandas.GeoDataFrame(cases)\n",
    "out = geopandas.GeoDataFrame(out.drop_duplicates())\n",
    "out.to_file(fname, driver='GeoJSON')\n",
    "print('%s' % fname)"
   ]
  },
  {
   "cell_type": "code",
   "execution_count": null,
   "id": "ab710eb4-3d27-4413-8a61-336374066900",
   "metadata": {},
   "outputs": [],
   "source": []
  },
  {
   "cell_type": "code",
   "execution_count": null,
   "id": "6bd6b886-cb1f-4e2f-b28d-4b5d74e4bc2b",
   "metadata": {},
   "outputs": [],
   "source": []
  },
  {
   "cell_type": "code",
   "execution_count": null,
   "id": "4c554b4d-eac1-48fa-bfbc-064997dd96d8",
   "metadata": {},
   "outputs": [],
   "source": []
  },
  {
   "cell_type": "code",
   "execution_count": null,
   "id": "892202ab-a04e-4694-a1ad-8c466c89a325",
   "metadata": {},
   "outputs": [],
   "source": []
  },
  {
   "cell_type": "code",
   "execution_count": null,
   "id": "a9e0fe41-23da-46b6-b512-95061a4e81ef",
   "metadata": {},
   "outputs": [],
   "source": []
  }
 ],
 "metadata": {
  "kernelspec": {
   "display_name": "Python 3 (ipykernel)",
   "language": "python",
   "name": "python3"
  },
  "language_info": {
   "codemirror_mode": {
    "name": "ipython",
    "version": 3
   },
   "file_extension": ".py",
   "mimetype": "text/x-python",
   "name": "python",
   "nbconvert_exporter": "python",
   "pygments_lexer": "ipython3",
   "version": "3.12.4"
  }
 },
 "nbformat": 4,
 "nbformat_minor": 5
}
