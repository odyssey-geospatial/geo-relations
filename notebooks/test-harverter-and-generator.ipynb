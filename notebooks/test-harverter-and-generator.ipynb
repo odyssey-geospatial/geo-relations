{
 "cells": [
  {
   "cell_type": "markdown",
   "id": "acc85c8b-1219-4af0-a709-ead7fb5b77c2",
   "metadata": {},
   "source": [
    "# Collect shapes and generate relations\n",
    "\n",
    "In this folder, we are building a dataset of geospatial shapes that have certain perscribed\n",
    "relations, like \"polygon intersection\" or \"point-on-line\". \n",
    "The actual entities and their specific attributes don't matter. \n",
    "\n",
    "All shapes will be pulled from OpenStreetMap using the `osmnx` package. \n",
    "Since OSM is short on the Multi* type of entities, I will create them \n",
    "by combining random subsets of the other types.\n",
    "\n",
    "We will not be encoding things in lon/lat space.\n",
    "Instead we will focus on rectangular subsets of say 10km x 10 km. \n",
    "The mapping between lon/lat and local x/y will be done based on a local\n",
    "transverse Mercator projection.\n"
   ]
  },
  {
   "cell_type": "code",
   "execution_count": null,
   "id": "dd90d4c3-c955-417d-9f96-0bbfd3c49cd7",
   "metadata": {},
   "outputs": [],
   "source": [
    "import geopandas as gpd\n",
    "import pandas as pd\n",
    "import numpy as np\n",
    "import osmnx\n",
    "import shapely\n",
    "import pyproj\n",
    "\n",
    "import plotly\n",
    "from plotly.subplots import make_subplots\n",
    "from plotly.graph_objects import Scatter\n"
   ]
  },
  {
   "cell_type": "code",
   "execution_count": null,
   "id": "a5651a69-9cdc-45ce-af6a-c3123c5c3718",
   "metadata": {},
   "outputs": [],
   "source": [
    "from geo_relations import ShapeHarvester\n",
    "from geo_relations import RelationGenerator\n",
    "from geo_relations import draw_shape"
   ]
  },
  {
   "cell_type": "markdown",
   "id": "aa982ed5-b9e3-4c06-a6db-a83d24e35afe",
   "metadata": {},
   "source": [
    "## Setup"
   ]
  },
  {
   "cell_type": "code",
   "execution_count": null,
   "id": "3423fb97-79aa-4d6f-8097-3dfdcc81aec2",
   "metadata": {},
   "outputs": [],
   "source": [
    "# Define a lon/lat center and a box size from which to pull shapes.\n",
    "center_lat, center_lon = 42.631024, -70.993787 # Boxford MA\n",
    "extent = 20000.0 # meters; this represents both width and height\n"
   ]
  },
  {
   "cell_type": "code",
   "execution_count": null,
   "id": "5c89c339-c283-4116-9460-17533feb13a7",
   "metadata": {},
   "outputs": [],
   "source": [
    "# Get a set of Point, LineString, and Polygon objects from our sample box.\n",
    "harvester = ShapeHarvester(center_lon, center_lat, extent)\n",
    "shapes = harvester.harvest(['points', 'linestrings', 'polygons'])\n",
    "shapes['type'].value_counts()"
   ]
  },
  {
   "cell_type": "code",
   "execution_count": null,
   "id": "9f078c6c-2b43-4df5-a748-02d42c08d036",
   "metadata": {},
   "outputs": [],
   "source": [
    "# Get some tiled polygons too. These will be used to generate \n",
    "# \"polygon-borders-polygon\" relations.\n",
    "harvester = ShapeHarvester(center_lon, center_lat, extent * 2)\n",
    "tiles = harvester.harvest(['tiled-polygons'])\n",
    "tiles['type'].value_counts()"
   ]
  },
  {
   "cell_type": "markdown",
   "id": "6b9d33fa-9106-4e97-b428-c11f76c6fc01",
   "metadata": {},
   "source": [
    "## Generate shape pairs with given relationships\n",
    "For each type of relation, generate some positive and some negative cases, and plot them."
   ]
  },
  {
   "cell_type": "code",
   "execution_count": null,
   "id": "658885de-ae8a-47d7-9877-d7750ac336f7",
   "metadata": {},
   "outputs": [],
   "source": [
    "aoi_width = 100\n",
    "aoi_height = 100\n",
    "cases_per = 3\n",
    "relations = [\n",
    "    'point-on-linestring', 'point-in-polygon', 'linestring-intersects-linestring',\n",
    "    'linestring-intersects-polygon', 'polygon-intersects-polygon', 'polygon-borders-polygon'\n",
    "]\n",
    "\n",
    "for relation in relations:\n",
    "    fodder = tiles if relation == 'polygon-borders-polygon' else shapes\n",
    "    generator = RelationGenerator(fodder, bounds=[0, 0, aoi_width, aoi_height], scale=25)\n",
    "    fig = make_subplots(2, cases_per, subplot_titles = ['true'] * cases_per + ['false'] * cases_per)\n",
    "    \n",
    "    for i in range(cases_per):\n",
    "        a, b = generator.generate(relation, True, max_attempts=100)\n",
    "        draw_shape(a, fig, irow=1, icol=i+1, name=a.geom_type, color='red')\n",
    "        draw_shape(b, fig, irow=1, icol=i+1, name=b.geom_type, color='blue')\n",
    "    \n",
    "    for i in range(cases_per):\n",
    "        a, b = generator.generate(relation, False)\n",
    "        draw_shape(a, fig, irow=2, icol=i+1, name=a.geom_type, color='red')\n",
    "        draw_shape(b, fig, irow=2, icol=i+1, name=b.geom_type, color='blue')\n",
    "    \n",
    "    fig['layout']['title'] = relation\n",
    "    fig['layout']['width'] = 800\n",
    "    fig['layout']['height'] = 600\n",
    "    fig['layout']['showlegend'] = False\n",
    "    \n",
    "    for i in range(cases_per * 2):\n",
    "        fig['layout']['xaxis%d' % (i+1)]['range'] = [0, aoi_width]\n",
    "        fig['layout']['yaxis%d' % (i+1)]['range'] = [0, aoi_height]\n",
    "    fig.show()\n",
    "\n",
    "\n",
    "# fig.print_grid()"
   ]
  }
 ],
 "metadata": {
  "kernelspec": {
   "display_name": "Python 3 (ipykernel)",
   "language": "python",
   "name": "python3"
  },
  "language_info": {
   "codemirror_mode": {
    "name": "ipython",
    "version": 3
   },
   "file_extension": ".py",
   "mimetype": "text/x-python",
   "name": "python",
   "nbconvert_exporter": "python",
   "pygments_lexer": "ipython3",
   "version": "3.12.4"
  }
 },
 "nbformat": 4,
 "nbformat_minor": 5
}
