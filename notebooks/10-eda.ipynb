{
 "cells": [
  {
   "cell_type": "markdown",
   "id": "acc85c8b-1219-4af0-a709-ead7fb5b77c2",
   "metadata": {},
   "source": [
    "# Shapes dataset\n",
    "\n",
    "Here I'm looking into building a dataset geographical entities. The actual entities don't \n",
    "matter. I only want a colelction of things that include span all six standard shape types; \n",
    "and that exhibit a number of standard pairwise spatial relationships like adjacency, containment, \n",
    "and intersection.\n",
    "\n",
    "In this notebook I'm looking into what I can pull from OSM using `osmnx`, which is awesome.\n"
   ]
  },
  {
   "cell_type": "code",
   "execution_count": null,
   "id": "dd90d4c3-c955-417d-9f96-0bbfd3c49cd7",
   "metadata": {},
   "outputs": [],
   "source": [
    "import geopandas as gpd\n",
    "import pandas as pd\n",
    "import numpy as np\n",
    "import osmnx\n",
    "import shapely\n",
    "import pyproj\n",
    "\n",
    "import plotly\n",
    "from plotly.subplots import make_subplots\n",
    "from plotly.graph_objects import Scatter\n",
    "\n",
    "from geo_encodings.vis import px_draw"
   ]
  },
  {
   "cell_type": "code",
   "execution_count": null,
   "id": "3423fb97-79aa-4d6f-8097-3dfdcc81aec2",
   "metadata": {},
   "outputs": [],
   "source": [
    "# Class defining an area of interest.\n",
    "class Aoi:\n",
    "    def __init__(self, lon0, lat0, lon1, lat1, tag=None):\n",
    "        self.lon0 = lon0\n",
    "        self.lat0 = lat0\n",
    "        self.lon1 = lon1\n",
    "        self.lat1 = lat1\n",
    "        self.clat = (self.lat0 + self.lat1) / 2.0\n",
    "        self.clon = (self.lon0 + self.lon1) / 2.0\n",
    "        self.bbox = (self.lon0, self.lat0, self.lon1, self.lat1)\n",
    "        self.tag = 'aoi' if tag is None else tag\n",
    "\n",
    "    def __str__(self):\n",
    "        s = (\n",
    "            '%s\\n' % (self.tag) + \n",
    "            'lon0: %10.6f lat0: %9.6f\\n'  % (self.lon0, self.lat0) +\n",
    "            'lon1: %10.6f lat1: %9.6f'  % (self.lon1, self.lat1)\n",
    "        )\n",
    "        return s"
   ]
  },
  {
   "cell_type": "code",
   "execution_count": null,
   "id": "387ab539-deba-4e41-81e9-35da35b7bcb5",
   "metadata": {},
   "outputs": [],
   "source": [
    "# # Seacoast area\n",
    "# lat0, lon0 = 42.895728, -71.130652\n",
    "# lat1, lon1 = 43.219406, -70.718521\n",
    "# aoi =  Aoi(lon0, lat0, lon1, lat1, tag='seacoast')\n",
    "# print(aoi)\n",
    "\n",
    "# # Brentwood Exeter Epping\n",
    "# lat0, lon0 = 42.921211, -71.105921\n",
    "# lat1, lon1 = 43.062846, -70.893249\n",
    "# aoi =  Aoi(lon0, lat0, lon1, lat1, tag='exeter')\n",
    "# print(aoi)\n",
    "\n",
    "# Kingston NH\n",
    "lat0, lon0 = 42.905712, -71.079052\n",
    "lat1, lon1 = 42.957061, -71.032922\n",
    "aoi =  Aoi(lon0, lat0, lon1, lat1, tag='kingston')\n",
    "print(aoi)\n"
   ]
  },
  {
   "cell_type": "markdown",
   "id": "2b21bd9d-e65d-4b73-8af5-5a074eada311",
   "metadata": {},
   "source": [
    "## Town boundaries"
   ]
  },
  {
   "cell_type": "code",
   "execution_count": null,
   "id": "0f703d22-6401-4501-8e99-746da9f75f79",
   "metadata": {},
   "outputs": [],
   "source": [
    "def get_named_towns(aoi):\n",
    "    tags = {\n",
    "        'boundary': 'administrative',\n",
    "        'admin_level': '8'\n",
    "    }\n",
    "    gdf = osmnx.features.features_from_bbox(aoi.bbox, tags=tags).reset_index()\n",
    "    iok = gdf['admin_level'] == '8'\n",
    "    iok = np.logical_and(iok, np.array([type(z) for z in gdf['name'].values]) == str)\n",
    "    columns = ['id', 'name', 'geometry']\n",
    "    return gdf[iok][columns]\n",
    "\n",
    "towns = get_named_towns(aoi)\n",
    "display(towns)\n"
   ]
  },
  {
   "cell_type": "code",
   "execution_count": null,
   "id": "946fa738-3b57-4e90-b339-bb653b94f487",
   "metadata": {},
   "outputs": [],
   "source": [
    "fig = make_subplots(1, 1)\n",
    "for rec in towns.itertuples():\n",
    "    px_draw(rec.geometry, fig, name=rec.name)\n",
    "fig['layout']['width'] = 900\n",
    "fig['layout']['height'] = 900\n",
    "fig"
   ]
  },
  {
   "cell_type": "code",
   "execution_count": null,
   "id": "3ceede9b-92b6-4724-9130-02f4aa1fcc63",
   "metadata": {},
   "outputs": [],
   "source": [
    "def get_landuse(aoi):\n",
    "    tags = { 'landuse': ['residential', 'commercial', 'industrial', 'forest', 'retail', 'farmland']}\n",
    "    gdf = osmnx.features.features_from_bbox(aoi.bbox, tags=tags).reset_index()\n",
    "    names = [\n",
    "        z['name'] if type(z['name']) == str else '_%s_' % z['landuse']\n",
    "        for z in gdf.to_dict('records')\n",
    "    ]\n",
    "    gdf['name'] = names\n",
    "    columns = ['id', 'landuse', 'name', 'geometry']\n",
    "    return gdf[columns]\n",
    "\n",
    "r = get_landuse(aoi)\n",
    "display(r.sort_values('name'))"
   ]
  },
  {
   "cell_type": "code",
   "execution_count": null,
   "id": "477129e8-9690-4e1f-ad31-bfdde1b7f673",
   "metadata": {},
   "outputs": [],
   "source": [
    "fig = make_subplots(1, 1)\n",
    "\n",
    "for rec in towns.itertuples():\n",
    "    px_draw(rec.geometry, fig, name=rec.name, color='blue')\n",
    "\n",
    "for rec in r.itertuples():\n",
    "    px_draw(rec.geometry, fig, name=rec.name, color='green')\n",
    "    \n",
    "fig['layout']['width'] = 900\n",
    "fig['layout']['height'] = 900\n",
    "fig"
   ]
  },
  {
   "cell_type": "markdown",
   "id": "99965299-5b53-41b8-8f85-c2b3deb7eebe",
   "metadata": {},
   "source": [
    "## Major roads"
   ]
  },
  {
   "cell_type": "code",
   "execution_count": null,
   "id": "d65c285d-ede0-42c3-aa40-fadc75440404",
   "metadata": {},
   "outputs": [],
   "source": [
    "def get_roads(aoi):\n",
    "    tags = { 'highway': ['motorway', 'trunk', 'primary', 'secondary']}\n",
    "    gdf = osmnx.features.features_from_bbox(aoi.bbox, tags=tags).reset_index()\n",
    "    return gdf\n",
    "\n",
    "roads = get_roads(aoi)\n",
    "display(roads.sort_values('name').head(3))"
   ]
  },
  {
   "cell_type": "code",
   "execution_count": null,
   "id": "4a94c681-9ece-488e-8b1d-3db0ab58b160",
   "metadata": {},
   "outputs": [],
   "source": [
    "fig = make_subplots(1, 1)\n",
    "\n",
    "for rec in towns.itertuples():\n",
    "    px_draw(rec.geometry, fig, name=rec.name, color='blue')\n",
    "\n",
    "for rec in roads.itertuples():\n",
    "    px_draw(rec.geometry, fig, name=rec.name, color='black')\n",
    "    \n",
    "fig['layout']['width'] = 900\n",
    "fig['layout']['height'] = 900\n",
    "fig"
   ]
  },
  {
   "cell_type": "markdown",
   "id": "dd5e66c9-3dfb-47ef-9bb1-54ed238b6669",
   "metadata": {},
   "source": [
    "## Waterways"
   ]
  },
  {
   "cell_type": "code",
   "execution_count": null,
   "id": "d7d582c6-c7b1-49e2-aed0-6db90c33c2fe",
   "metadata": {},
   "outputs": [],
   "source": [
    "def get_rivers(aoi):\n",
    "    tags = {\"waterway\": [\"river\", \"stream\", \"canal\"]}\n",
    "    gdf = osmnx.features.features_from_bbox(aoi.bbox, tags=tags).reset_index()\n",
    "    return gdf\n",
    "\n",
    "waterways = get_rivers(aoi)\n",
    "display(waterways.sort_values('name').head(3))"
   ]
  },
  {
   "cell_type": "code",
   "execution_count": null,
   "id": "6eca5df8-95f2-4388-8137-fccc07c0fb49",
   "metadata": {},
   "outputs": [],
   "source": [
    "fig = make_subplots(1, 1)\n",
    "\n",
    "for rec in towns.itertuples():\n",
    "    px_draw(rec.geometry, fig, name=rec.name, color='gray')\n",
    "\n",
    "for rec in waterways.itertuples():\n",
    "    px_draw(rec.geometry, fig, name=rec.name, color='blue')\n",
    "    \n",
    "fig['layout']['width'] = 900\n",
    "fig['layout']['height'] = 900\n",
    "fig"
   ]
  },
  {
   "cell_type": "code",
   "execution_count": null,
   "id": "05f3cc6d-7086-4655-9d32-ef93eb22f323",
   "metadata": {},
   "outputs": [],
   "source": [
    "def get_manmade(aoi):\n",
    "    tags = {\"amenity\": True}\n",
    "    # gdf = osmnx.features.features_from_bbox(aoi.bbox, tags=tags).reset_index()\n",
    "    gdf = osmnx.features.features_from_point((aoi.lat0, aoi.lon0), tags=tags, dist=10000)\n",
    "    return gdf\n",
    "\n",
    "manmade = get_manmade(aoi)\n",
    "display(manmade)"
   ]
  },
  {
   "cell_type": "code",
   "execution_count": null,
   "id": "1f11a08e-53db-4cb0-b518-528f085271fe",
   "metadata": {},
   "outputs": [],
   "source": [
    "manmade['amenity'].value_counts()"
   ]
  },
  {
   "cell_type": "code",
   "execution_count": null,
   "id": "aae1fc31-dcdf-404c-8c5b-84ca73dfa97d",
   "metadata": {},
   "outputs": [],
   "source": [
    "fig = make_subplots(1, 1)\n",
    "\n",
    "for rec in towns.itertuples():\n",
    "    px_draw(rec.geometry, fig, name=rec.name, color='gray')\n",
    "\n",
    "for rec in manmade.itertuples():\n",
    "    px_draw(rec.geometry, fig, name=rec.name, color='blue')\n",
    "    \n",
    "fig['layout']['width'] = 900\n",
    "fig['layout']['height'] = 900\n",
    "fig"
   ]
  },
  {
   "cell_type": "code",
   "execution_count": null,
   "id": "6f8023bc-3a5a-48ca-8d4d-50996565bfae",
   "metadata": {},
   "outputs": [],
   "source": []
  }
 ],
 "metadata": {
  "kernelspec": {
   "display_name": "Python 3 (ipykernel)",
   "language": "python",
   "name": "python3"
  },
  "language_info": {
   "codemirror_mode": {
    "name": "ipython",
    "version": 3
   },
   "file_extension": ".py",
   "mimetype": "text/x-python",
   "name": "python",
   "nbconvert_exporter": "python",
   "pygments_lexer": "ipython3",
   "version": "3.12.4"
  }
 },
 "nbformat": 4,
 "nbformat_minor": 5
}
