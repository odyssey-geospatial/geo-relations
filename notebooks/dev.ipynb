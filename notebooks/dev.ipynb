{
 "cells": [
  {
   "cell_type": "markdown",
   "id": "acc85c8b-1219-4af0-a709-ead7fb5b77c2",
   "metadata": {},
   "source": [
    "# Collect shapes and generate relations\n",
    "\n",
    "In this folder, we are building a dataset of geospatial shapes that have certain perscribed\n",
    "relations, like \"polygon intersection\" or \"point-on-line\". \n",
    "The actual entities and their specific attributes don't matter. \n",
    "\n",
    "All shapes will be pulled from OpenStreetMap using the `osmnx` package. \n",
    "We will not be encoding things in lon/lat space.\n",
    "Instead we will focus on rectangular subsets of say 10km x 10 km. \n",
    "The mapping between lon/lat and local x/y will be done based on a local\n",
    "transverse Mercator projection.\n"
   ]
  },
  {
   "cell_type": "code",
   "execution_count": null,
   "id": "dd90d4c3-c955-417d-9f96-0bbfd3c49cd7",
   "metadata": {},
   "outputs": [],
   "source": [
    "import geopandas as gpd\n",
    "import pandas as pd\n",
    "import numpy as np\n",
    "import osmnx\n",
    "import shapely\n",
    "import pyproj\n",
    "\n",
    "import plotly\n",
    "from plotly.subplots import make_subplots\n",
    "from plotly.graph_objects import Scatter\n"
   ]
  },
  {
   "cell_type": "code",
   "execution_count": null,
   "id": "a5651a69-9cdc-45ce-af6a-c3123c5c3718",
   "metadata": {},
   "outputs": [],
   "source": [
    "from geo_relations import OSMShapeCollector\n",
    "from geo_relations import RelationGenerator\n",
    "from geo_relations import draw_shape"
   ]
  },
  {
   "cell_type": "markdown",
   "id": "aa982ed5-b9e3-4c06-a6db-a83d24e35afe",
   "metadata": {},
   "source": [
    "## Setup"
   ]
  },
  {
   "cell_type": "code",
   "execution_count": null,
   "id": "3423fb97-79aa-4d6f-8097-3dfdcc81aec2",
   "metadata": {},
   "outputs": [],
   "source": [
    "# Define a lon/lat center and a box size from which to pull shapes.\n",
    "center_lat, center_lon = 42.631024, -70.993787 # Boxford MA\n",
    "extent = 20000.0 # meters; this represents both width and height"
   ]
  },
  {
   "cell_type": "code",
   "execution_count": null,
   "id": "5c89c339-c283-4116-9460-17533feb13a7",
   "metadata": {},
   "outputs": [],
   "source": [
    "# Get a set of Point, LineString, and Polygon objects from our sample box.\n",
    "collector = OSMShapeCollector(center_lon, center_lat, extent)\n",
    "shapes = collector.collect(['points', 'linestrings', 'polygons'])\n",
    "shapes['type'].value_counts()"
   ]
  },
  {
   "cell_type": "code",
   "execution_count": null,
   "id": "9f078c6c-2b43-4df5-a748-02d42c08d036",
   "metadata": {},
   "outputs": [],
   "source": [
    "# Get some tiled polygons too. These will be used to generate \n",
    "# \"polygon-borders-polygon\" relations.\n",
    "collector = OSMShapeCollector(center_lon, center_lat, extent * 2)\n",
    "tiles = collector.collect(['tiled-polygons'])\n",
    "tiles['type'].value_counts()"
   ]
  },
  {
   "cell_type": "code",
   "execution_count": null,
   "id": "2e4f3abb-0440-40b1-9989-307f5b5965c0",
   "metadata": {},
   "outputs": [],
   "source": [
    "region_width = 100\n",
    "region_height = 100\n",
    "relation = 'point-in-polygon'\n",
    "fodder = shapes\n",
    "generator = RelationGenerator(fodder, bounds=[0, 0, region_width, region_height], scale=[0.1, 0.5], margin=20)\n"
   ]
  },
  {
   "cell_type": "code",
   "execution_count": null,
   "id": "37fcc314-51e4-4c4e-9607-0c69954a2197",
   "metadata": {},
   "outputs": [],
   "source": [
    "# g0 = generator.pick_a_random('Polygon')\n",
    "# g1 = generator.rescale(g0)\n",
    "# g2 = generator.reposition(g1)\n",
    "# g3 = generator.rotate(g2)\n",
    "\n",
    "# fig = make_subplots(1, 1)\n",
    "# draw_shape(g2, fig, color='red')\n",
    "# draw_shape(g3, fig, color='purple')\n",
    "# fig['layout']['width'] = 500\n",
    "# fig['layout']['height'] = 500\n",
    "# fig['layout']['xaxis1']['range'] = [0, 100]\n",
    "# fig['layout']['yaxis1']['range'] = [0, 100]\n",
    "# fig.show()"
   ]
  },
  {
   "cell_type": "code",
   "execution_count": null,
   "id": "ec6d04dd-cb37-417a-a75b-61ee92d54f5c",
   "metadata": {},
   "outputs": [],
   "source": [
    "n = 4\n",
    "fig = make_subplots(1, n)\n",
    "\n",
    "for icol in range(n):\n",
    "    a, b = generator.generate(relation='polygon-borders-polygon', sense=True, max_attempts=100)\n",
    "    if a is None:\n",
    "        continue\n",
    "    draw_shape(a, fig, irow=1, icol=icol+1, color='red')\n",
    "    draw_shape(b, fig, irow=1, icol=icol+1, color='blue')\n",
    "    fig['layout']['xaxis%d'%(icol+1)]['range'] = [0, 100]\n",
    "    fig['layout']['yaxis%d'%(icol+1)]['range'] = [0, 100]\n",
    "fig['layout']['width'] = 1200\n",
    "fig['layout']['height'] = 400\n",
    "fig.show()"
   ]
  },
  {
   "cell_type": "code",
   "execution_count": null,
   "id": "f3a00381-d414-4c59-bddd-d8ac947494ad",
   "metadata": {},
   "outputs": [],
   "source": []
  }
 ],
 "metadata": {
  "kernelspec": {
   "display_name": "Python 3 (ipykernel)",
   "language": "python",
   "name": "python3"
  },
  "language_info": {
   "codemirror_mode": {
    "name": "ipython",
    "version": 3
   },
   "file_extension": ".py",
   "mimetype": "text/x-python",
   "name": "python",
   "nbconvert_exporter": "python",
   "pygments_lexer": "ipython3",
   "version": "3.12.4"
  }
 },
 "nbformat": 4,
 "nbformat_minor": 5
}
