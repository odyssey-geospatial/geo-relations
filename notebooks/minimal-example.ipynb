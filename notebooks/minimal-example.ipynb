{
 "cells": [
  {
   "cell_type": "markdown",
   "id": "acc85c8b-1219-4af0-a709-ead7fb5b77c2",
   "metadata": {},
   "source": [
    "# Collect shapes and generate relations\n",
    "\n",
    "Tools in this repo are for building datasets of \n",
    "geometric and geospatial shapes that have certain perscribed\n",
    "relations, like \"polygon intersection\" or \"point-on-line\". \n",
    "The actual entities and their specific attributes don't matter. \n",
    "\n",
    "In this notebook we pull shapes from OpenStreetMap. \n",
    "Although such shapes are natively expreseed in lon/lat coordiantes,\n",
    "the `geo_relations` package maps them to a unitless rectangular space that you define.\n"
   ]
  },
  {
   "cell_type": "code",
   "execution_count": null,
   "id": "a5651a69-9cdc-45ce-af6a-c3123c5c3718",
   "metadata": {},
   "outputs": [],
   "source": [
    "from geo_relations import OSMShapeCollector\n",
    "from geo_relations import RelationGenerator\n",
    "\n",
    "center_lat, center_lon = 42.631024, -70.993787\n",
    "extent = 20000.0\n",
    "collector = OSMShapeCollector(center_lon, center_lat, extent)\n",
    "shapes = collector.collect(['linestrings', 'polygons'])\n",
    "\n",
    "print('%d shapes collected' % len(shapes))\n",
    "shapes.head()\n",
    "shapes['type'].value_counts()"
   ]
  },
  {
   "cell_type": "code",
   "execution_count": null,
   "id": "b01f6bd5-cce9-40c4-a839-863c57d76a4e",
   "metadata": {},
   "outputs": [],
   "source": [
    "type(shapes)"
   ]
  },
  {
   "cell_type": "code",
   "execution_count": null,
   "id": "a0f1695b-837f-4c44-99e0-d8d14a6acab3",
   "metadata": {},
   "outputs": [],
   "source": [
    "generator = RelationGenerator(shapes, bounds=[0, 0, 100, 100], scale=25)\n",
    "a, b = generator.generate('linestring-intersects-polygon', True)"
   ]
  },
  {
   "cell_type": "code",
   "execution_count": null,
   "id": "68a4122c-a63d-475a-ac11-23e1ddfc3bac",
   "metadata": {},
   "outputs": [],
   "source": [
    "import plotly\n",
    "from plotly.subplots import make_subplots\n",
    "from geo_relations import draw_shape\n",
    "\n",
    "fig = make_subplots(1, 1)\n",
    "draw_shape(a, fig, name=a.geom_type, color='red')\n",
    "draw_shape(b, fig, name=b.geom_type, color='blue')\n",
    "fig['layout']['width'] = 500\n",
    "fig['layout']['height'] = 500\n",
    "fig['layout']['xaxis1']['range'] = [0, 100]\n",
    "fig['layout']['yaxis1']['range'] = [0, 100]\n",
    "fig.show()\n"
   ]
  },
  {
   "cell_type": "code",
   "execution_count": null,
   "id": "1313f1b0-07c7-4b93-9a65-91c7c69d3c71",
   "metadata": {},
   "outputs": [],
   "source": []
  }
 ],
 "metadata": {
  "kernelspec": {
   "display_name": "Python 3 (ipykernel)",
   "language": "python",
   "name": "python3"
  },
  "language_info": {
   "codemirror_mode": {
    "name": "ipython",
    "version": 3
   },
   "file_extension": ".py",
   "mimetype": "text/x-python",
   "name": "python",
   "nbconvert_exporter": "python",
   "pygments_lexer": "ipython3",
   "version": "3.12.4"
  }
 },
 "nbformat": 4,
 "nbformat_minor": 5
}
