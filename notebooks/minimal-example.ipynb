{
 "cells": [
  {
   "cell_type": "markdown",
   "id": "acc85c8b-1219-4af0-a709-ead7fb5b77c2",
   "metadata": {},
   "source": [
    "# Collect shapes and generate relations\n",
    "\n",
    "In this folder, we are building a dataset of geospatial shapes that have certain perscribed\n",
    "relations, like \"polygon intersection\" or \"point-on-line\". \n",
    "The actual entities and their specific attributes don't matter. \n",
    "\n",
    "All shapes will be pulled from OpenStreetMap using the `osmnx` package. \n",
    "Since OSM is short on the Multi* type of entities, I will create them \n",
    "by combining random subsets of the other types.\n",
    "\n",
    "We will not be encoding things in lon/lat space.\n",
    "Instead we will focus on rectangular subsets of say 10km x 10 km. \n",
    "The mapping between lon/lat and local x/y will be done based on a local\n",
    "transverse Mercator projection.\n"
   ]
  },
  {
   "cell_type": "code",
   "execution_count": null,
   "id": "dd90d4c3-c955-417d-9f96-0bbfd3c49cd7",
   "metadata": {},
   "outputs": [],
   "source": [
    "# import geopandas as gpd\n",
    "# import pandas as pd\n",
    "# import numpy as np\n",
    "# import osmnx\n",
    "# import shapely\n",
    "# import pyproj\n"
   ]
  },
  {
   "cell_type": "code",
   "execution_count": null,
   "id": "a5651a69-9cdc-45ce-af6a-c3123c5c3718",
   "metadata": {},
   "outputs": [],
   "source": [
    "from geo_relations import ShapeHarvester\n",
    "from geo_relations import RelationGenerator\n",
    "\n",
    "center_lat, center_lon = 42.631024, -70.993787\n",
    "extent = 20000.0\n",
    "harvester = ShapeHarvester(center_lon, center_lat, extent)\n",
    "shapes = harvester.harvest(['linestrings', 'polygons'])\n",
    "\n",
    "generator = RelationGenerator(shapes, bounds=[0, 0, 100, 100], scale=25)\n",
    "a, b = generator.generate('linestring-intersects-polygon', True)\n"
   ]
  },
  {
   "cell_type": "code",
   "execution_count": null,
   "id": "68a4122c-a63d-475a-ac11-23e1ddfc3bac",
   "metadata": {},
   "outputs": [],
   "source": [
    "a"
   ]
  },
  {
   "cell_type": "code",
   "execution_count": null,
   "id": "55343486-d64c-482b-831d-1404e8ba0244",
   "metadata": {},
   "outputs": [],
   "source": [
    "b"
   ]
  }
 ],
 "metadata": {
  "kernelspec": {
   "display_name": "Python 3 (ipykernel)",
   "language": "python",
   "name": "python3"
  },
  "language_info": {
   "codemirror_mode": {
    "name": "ipython",
    "version": 3
   },
   "file_extension": ".py",
   "mimetype": "text/x-python",
   "name": "python",
   "nbconvert_exporter": "python",
   "pygments_lexer": "ipython3",
   "version": "3.12.4"
  }
 },
 "nbformat": 4,
 "nbformat_minor": 5
}
